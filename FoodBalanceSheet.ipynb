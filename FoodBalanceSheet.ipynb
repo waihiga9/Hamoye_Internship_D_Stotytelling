{
 "cells": [
  {
   "attachments": {},
   "cell_type": "markdown",
   "metadata": {},
   "source": [
    "<img src=\"logo.png\" alt=\"Image Description\" width=\"200\" height=\"35\" />"
   ]
  },
  {
   "attachments": {},
   "cell_type": "markdown",
   "metadata": {},
   "source": [
    "# <span style ='color : black'> **STAGE A**: Introduction to Python for Machine Learning </span>"
   ]
  },
  {
   "attachments": {},
   "cell_type": "markdown",
   "metadata": {},
   "source": [
    " ## <span style ='color : black'> Graded Quiz </span>\n",
    "> The [dataset](https://github.com/HamoyeHQ/HDSC-Introduction-to-Python-for-machine-learning) at hand is a compilation of agricultural information provided by the **Food and Agriculture Organization** (*FAO*) of the **United Nations**. It encompasses a wide array of data points pertaining to various aspects of agriculture, food production, and consumption from the year 2014 to 2018. \n"
   ]
  },
  {
   "attachments": {},
   "cell_type": "markdown",
   "metadata": {},
   "source": [
    "![Food Sample](sample.png)\n",
    "*Image by <a href=\"https://www.freepik.com/free-photo/vegetable-with-space-bottom_1298891.htm#query=Food%20and%20Agriculture%20header&position=27&from_view=search&track=ais\">Freepik</a>*"
   ]
  },
  {
   "cell_type": "code",
   "execution_count": 1,
   "metadata": {},
   "outputs": [],
   "source": [
    "# import required libraries\n",
    "import pandas as pd\n",
    "import numpy as np"
   ]
  },
  {
   "cell_type": "code",
   "execution_count": 2,
   "metadata": {},
   "outputs": [
    {
     "data": {
      "text/html": [
       "<div>\n",
       "<style scoped>\n",
       "    .dataframe tbody tr th:only-of-type {\n",
       "        vertical-align: middle;\n",
       "    }\n",
       "\n",
       "    .dataframe tbody tr th {\n",
       "        vertical-align: top;\n",
       "    }\n",
       "\n",
       "    .dataframe thead th {\n",
       "        text-align: right;\n",
       "    }\n",
       "</style>\n",
       "<table border=\"1\" class=\"dataframe\">\n",
       "  <thead>\n",
       "    <tr style=\"text-align: right;\">\n",
       "      <th></th>\n",
       "      <th>Area Code</th>\n",
       "      <th>Area</th>\n",
       "      <th>Item Code</th>\n",
       "      <th>Item</th>\n",
       "      <th>Element Code</th>\n",
       "      <th>Element</th>\n",
       "      <th>Unit</th>\n",
       "      <th>Y2014</th>\n",
       "      <th>Y2015</th>\n",
       "      <th>Y2016</th>\n",
       "      <th>Y2017</th>\n",
       "      <th>Y2018</th>\n",
       "    </tr>\n",
       "  </thead>\n",
       "  <tbody>\n",
       "    <tr>\n",
       "      <th>0</th>\n",
       "      <td>4</td>\n",
       "      <td>Algeria</td>\n",
       "      <td>2501</td>\n",
       "      <td>Population</td>\n",
       "      <td>511</td>\n",
       "      <td>Total Population - Both sexes</td>\n",
       "      <td>1000 persons</td>\n",
       "      <td>38924.0</td>\n",
       "      <td>39728.0</td>\n",
       "      <td>40551.0</td>\n",
       "      <td>41389.0</td>\n",
       "      <td>42228.0</td>\n",
       "    </tr>\n",
       "    <tr>\n",
       "      <th>1</th>\n",
       "      <td>4</td>\n",
       "      <td>Algeria</td>\n",
       "      <td>2501</td>\n",
       "      <td>Population</td>\n",
       "      <td>5301</td>\n",
       "      <td>Domestic supply quantity</td>\n",
       "      <td>1000 tonnes</td>\n",
       "      <td>0.0</td>\n",
       "      <td>0.0</td>\n",
       "      <td>0.0</td>\n",
       "      <td>0.0</td>\n",
       "      <td>0.0</td>\n",
       "    </tr>\n",
       "    <tr>\n",
       "      <th>2</th>\n",
       "      <td>4</td>\n",
       "      <td>Algeria</td>\n",
       "      <td>2901</td>\n",
       "      <td>Grand Total</td>\n",
       "      <td>664</td>\n",
       "      <td>Food supply (kcal/capita/day)</td>\n",
       "      <td>kcal/capita/day</td>\n",
       "      <td>3377.0</td>\n",
       "      <td>3379.0</td>\n",
       "      <td>3372.0</td>\n",
       "      <td>3341.0</td>\n",
       "      <td>3322.0</td>\n",
       "    </tr>\n",
       "  </tbody>\n",
       "</table>\n",
       "</div>"
      ],
      "text/plain": [
       "   Area Code     Area  Item Code         Item  Element Code  \\\n",
       "0          4  Algeria       2501   Population           511   \n",
       "1          4  Algeria       2501   Population          5301   \n",
       "2          4  Algeria       2901  Grand Total           664   \n",
       "\n",
       "                         Element             Unit    Y2014    Y2015    Y2016  \\\n",
       "0  Total Population - Both sexes     1000 persons  38924.0  39728.0  40551.0   \n",
       "1       Domestic supply quantity      1000 tonnes      0.0      0.0      0.0   \n",
       "2  Food supply (kcal/capita/day)  kcal/capita/day   3377.0   3379.0   3372.0   \n",
       "\n",
       "     Y2017    Y2018  \n",
       "0  41389.0  42228.0  \n",
       "1      0.0      0.0  \n",
       "2   3341.0   3322.0  "
      ]
     },
     "execution_count": 2,
     "metadata": {},
     "output_type": "execute_result"
    }
   ],
   "source": [
    "# load the data\n",
    "food_df = pd.read_csv(\"FoodBalanceSheets_E_Africa_NOFLAG.CSV\", encoding = 'latin-1')\n",
    "food_df.head(3)"
   ]
  },
  {
   "cell_type": "code",
   "execution_count": 3,
   "metadata": {},
   "outputs": [
    {
     "name": "stdout",
     "output_type": "stream",
     "text": [
      "================================================================\n",
      "DataFrame shape: (60943, 12)\n",
      "\n",
      "================================================================\n",
      "<class 'pandas.core.frame.DataFrame'>\n",
      "RangeIndex: 60943 entries, 0 to 60942\n",
      "Data columns (total 12 columns):\n",
      " #   Column        Non-Null Count  Dtype  \n",
      "---  ------        --------------  -----  \n",
      " 0   Area Code     60943 non-null  int64  \n",
      " 1   Area          60943 non-null  object \n",
      " 2   Item Code     60943 non-null  int64  \n",
      " 3   Item          60943 non-null  object \n",
      " 4   Element Code  60943 non-null  int64  \n",
      " 5   Element       60943 non-null  object \n",
      " 6   Unit          60943 non-null  object \n",
      " 7   Y2014         59354 non-null  float64\n",
      " 8   Y2015         59395 non-null  float64\n",
      " 9   Y2016         59408 non-null  float64\n",
      " 10  Y2017         59437 non-null  float64\n",
      " 11  Y2018         59507 non-null  float64\n",
      "dtypes: float64(5), int64(3), object(4)\n",
      "memory usage: 5.6+ MB\n",
      "DataFrame info: None\n",
      "\n"
     ]
    }
   ],
   "source": [
    "\n",
    "# display the DataFrame shape\n",
    "print('================================================================')\n",
    "print(f'DataFrame shape: {food_df.shape}\\n')\n",
    "\n",
    "# display the DataFrame info\n",
    "print('================================================================')\n",
    "print(f'DataFrame info: {food_df.info()}\\n')\n"
   ]
  },
  {
   "cell_type": "code",
   "execution_count": 4,
   "metadata": {},
   "outputs": [
    {
     "data": {
      "text/html": [
       "<div>\n",
       "<style scoped>\n",
       "    .dataframe tbody tr th:only-of-type {\n",
       "        vertical-align: middle;\n",
       "    }\n",
       "\n",
       "    .dataframe tbody tr th {\n",
       "        vertical-align: top;\n",
       "    }\n",
       "\n",
       "    .dataframe thead th {\n",
       "        text-align: right;\n",
       "    }\n",
       "</style>\n",
       "<table border=\"1\" class=\"dataframe\">\n",
       "  <thead>\n",
       "    <tr style=\"text-align: right;\">\n",
       "      <th></th>\n",
       "      <th>Area Code</th>\n",
       "      <th>Item Code</th>\n",
       "      <th>Element Code</th>\n",
       "      <th>Y2014</th>\n",
       "      <th>Y2015</th>\n",
       "      <th>Y2016</th>\n",
       "      <th>Y2017</th>\n",
       "      <th>Y2018</th>\n",
       "    </tr>\n",
       "  </thead>\n",
       "  <tbody>\n",
       "    <tr>\n",
       "      <th>count</th>\n",
       "      <td>60943.000000</td>\n",
       "      <td>60943.000000</td>\n",
       "      <td>60943.000000</td>\n",
       "      <td>59354.000000</td>\n",
       "      <td>59395.000000</td>\n",
       "      <td>59408.000000</td>\n",
       "      <td>59437.000000</td>\n",
       "      <td>59507.000000</td>\n",
       "    </tr>\n",
       "    <tr>\n",
       "      <th>mean</th>\n",
       "      <td>134.265576</td>\n",
       "      <td>2687.176706</td>\n",
       "      <td>3814.856456</td>\n",
       "      <td>134.196282</td>\n",
       "      <td>135.235966</td>\n",
       "      <td>136.555222</td>\n",
       "      <td>140.917765</td>\n",
       "      <td>143.758381</td>\n",
       "    </tr>\n",
       "    <tr>\n",
       "      <th>std</th>\n",
       "      <td>72.605709</td>\n",
       "      <td>146.055739</td>\n",
       "      <td>2212.007033</td>\n",
       "      <td>1567.663696</td>\n",
       "      <td>1603.403984</td>\n",
       "      <td>1640.007194</td>\n",
       "      <td>1671.862359</td>\n",
       "      <td>1710.782658</td>\n",
       "    </tr>\n",
       "    <tr>\n",
       "      <th>min</th>\n",
       "      <td>4.000000</td>\n",
       "      <td>2501.000000</td>\n",
       "      <td>511.000000</td>\n",
       "      <td>-1796.000000</td>\n",
       "      <td>-3161.000000</td>\n",
       "      <td>-3225.000000</td>\n",
       "      <td>-1582.000000</td>\n",
       "      <td>-3396.000000</td>\n",
       "    </tr>\n",
       "    <tr>\n",
       "      <th>25%</th>\n",
       "      <td>74.000000</td>\n",
       "      <td>2562.000000</td>\n",
       "      <td>684.000000</td>\n",
       "      <td>0.000000</td>\n",
       "      <td>0.000000</td>\n",
       "      <td>0.000000</td>\n",
       "      <td>0.000000</td>\n",
       "      <td>0.000000</td>\n",
       "    </tr>\n",
       "    <tr>\n",
       "      <th>50%</th>\n",
       "      <td>136.000000</td>\n",
       "      <td>2630.000000</td>\n",
       "      <td>5142.000000</td>\n",
       "      <td>0.090000</td>\n",
       "      <td>0.080000</td>\n",
       "      <td>0.080000</td>\n",
       "      <td>0.100000</td>\n",
       "      <td>0.070000</td>\n",
       "    </tr>\n",
       "    <tr>\n",
       "      <th>75%</th>\n",
       "      <td>195.000000</td>\n",
       "      <td>2775.000000</td>\n",
       "      <td>5511.000000</td>\n",
       "      <td>8.340000</td>\n",
       "      <td>8.460000</td>\n",
       "      <td>8.430000</td>\n",
       "      <td>9.000000</td>\n",
       "      <td>9.000000</td>\n",
       "    </tr>\n",
       "    <tr>\n",
       "      <th>max</th>\n",
       "      <td>276.000000</td>\n",
       "      <td>2961.000000</td>\n",
       "      <td>5911.000000</td>\n",
       "      <td>176405.000000</td>\n",
       "      <td>181137.000000</td>\n",
       "      <td>185960.000000</td>\n",
       "      <td>190873.000000</td>\n",
       "      <td>195875.000000</td>\n",
       "    </tr>\n",
       "  </tbody>\n",
       "</table>\n",
       "</div>"
      ],
      "text/plain": [
       "          Area Code     Item Code  Element Code          Y2014          Y2015  \\\n",
       "count  60943.000000  60943.000000  60943.000000   59354.000000   59395.000000   \n",
       "mean     134.265576   2687.176706   3814.856456     134.196282     135.235966   \n",
       "std       72.605709    146.055739   2212.007033    1567.663696    1603.403984   \n",
       "min        4.000000   2501.000000    511.000000   -1796.000000   -3161.000000   \n",
       "25%       74.000000   2562.000000    684.000000       0.000000       0.000000   \n",
       "50%      136.000000   2630.000000   5142.000000       0.090000       0.080000   \n",
       "75%      195.000000   2775.000000   5511.000000       8.340000       8.460000   \n",
       "max      276.000000   2961.000000   5911.000000  176405.000000  181137.000000   \n",
       "\n",
       "               Y2016          Y2017          Y2018  \n",
       "count   59408.000000   59437.000000   59507.000000  \n",
       "mean      136.555222     140.917765     143.758381  \n",
       "std      1640.007194    1671.862359    1710.782658  \n",
       "min     -3225.000000   -1582.000000   -3396.000000  \n",
       "25%         0.000000       0.000000       0.000000  \n",
       "50%         0.080000       0.100000       0.070000  \n",
       "75%         8.430000       9.000000       9.000000  \n",
       "max    185960.000000  190873.000000  195875.000000  "
      ]
     },
     "execution_count": 4,
     "metadata": {},
     "output_type": "execute_result"
    }
   ],
   "source": [
    "# display the DataFrame description\n",
    "food_df.describe()"
   ]
  },
  {
   "attachments": {},
   "cell_type": "markdown",
   "metadata": {},
   "source": [
    "`food_df` contains information on various key factors, including geographical details, specific agricultural items, production elements, and measurement units. The dataset is structured around the following features:\n",
    "\n",
    "1. **Area Code**: A numerical code representing specific geographical regions.\n",
    "2. **Area**: The name of the geographical area.\n",
    "3. **Item Code**: A numerical code representing specific agricultural items or products.\n",
    "4. **Item**: The name of the agricultural item or product.\n",
    "5. **Element Code**: A numerical code representing specific agricultural elements or indicators.\n",
    "6. **Element**: The description of the agricultural element or indicator.\n",
    "7. **Unit**: The measurement unit used for the data.\n",
    "8. **Y2014, Y2015, Y2016, Y2017, Y2018**: Data columns containing information for each respective year."
   ]
  },
  {
   "cell_type": "code",
   "execution_count": 5,
   "metadata": {},
   "outputs": [],
   "source": [
    "# copy DataFrame\n",
    "copy_df = food_df.copy()"
   ]
  },
  {
   "attachments": {},
   "cell_type": "markdown",
   "metadata": {},
   "source": [
    "---"
   ]
  },
  {
   "attachments": {},
   "cell_type": "markdown",
   "metadata": {},
   "source": [
    "### <span style ='color : green'> **Question 1** </span>\n",
    "What is the total number of **unique countries** in the dataset?"
   ]
  },
  {
   "cell_type": "markdown",
   "metadata": {},
   "source": [
    "<span style ='color : orange'> **Ans:** </span> "
   ]
  },
  {
   "cell_type": "code",
   "execution_count": 6,
   "metadata": {},
   "outputs": [
    {
     "name": "stdout",
     "output_type": "stream",
     "text": [
      "Number of unique countrie in the dataset : 49\n"
     ]
    }
   ],
   "source": [
    "# calculate number of unique values\n",
    "print(f\"Number of unique countrie in the dataset : {copy_df['Area'].nunique()}\")"
   ]
  },
  {
   "attachments": {},
   "cell_type": "markdown",
   "metadata": {},
   "source": [
    "### <span style ='color : green'> **Question 2** </span>\n",
    "Consider the following list of tuples:\n",
    "\n",
    "$y = [(2, 4), (7, 8), (1, 5, 9)]$\n",
    "\n",
    "How would you **assign element 8** from the list to a variable `x`?"
   ]
  },
  {
   "cell_type": "markdown",
   "metadata": {},
   "source": [
    "<span style ='color : orange'> **Ans:** </span> "
   ]
  },
  {
   "cell_type": "code",
   "execution_count": 7,
   "metadata": {},
   "outputs": [
    {
     "name": "stdout",
     "output_type": "stream",
     "text": [
      "8\n",
      "8\n"
     ]
    }
   ],
   "source": [
    "y = [(2, 4), (7, 8), (1, 5, 9)]\n",
    "# assign element `8`\n",
    "print(y[1][-1])\n",
    "print(y[1][1])"
   ]
  },
  {
   "attachments": {},
   "cell_type": "markdown",
   "metadata": {},
   "source": [
    "### <span style ='color : green'> **Question 3** </span>\n",
    "What is the **total** `Protein supply quantity` in Madagascar in **2015**?"
   ]
  },
  {
   "cell_type": "markdown",
   "metadata": {},
   "source": [
    "<span style ='color : orange'> **Ans:** </span>"
   ]
  },
  {
   "cell_type": "code",
   "execution_count": 8,
   "metadata": {},
   "outputs": [
    {
     "name": "stdout",
     "output_type": "stream",
     "text": [
      "Total Protein supply quantity in Madagascar year 2015, is 173.05 g/capita/day\n"
     ]
    }
   ],
   "source": [
    "# add Madagascar filter to Area\n",
    "mg = copy_df[copy_df['Area'] == 'Madagascar']\n",
    "# groupby sum aggregation on `Element`\n",
    "mg = mg.groupby('Element')['Y2015'].sum()\n",
    "# locate `Protein supply quantity`\n",
    "protein = mg.loc['Protein supply quantity (g/capita/day)']\n",
    "print(f\"Total Protein supply quantity in Madagascar year 2015, is {protein} g/capita/day\")"
   ]
  },
  {
   "attachments": {},
   "cell_type": "markdown",
   "metadata": {},
   "source": [
    "### <span style ='color : green'> **Question 4** </span>\n",
    "What would be the **output** for?\n",
    "\n",
    "`S = [['him', 'sell'], [90, 28, 43]]`\n",
    "\n",
    "`S[0][1][1]`"
   ]
  },
  {
   "cell_type": "markdown",
   "metadata": {},
   "source": [
    "<span style ='color : orange'> **Ans:** </span>"
   ]
  },
  {
   "cell_type": "code",
   "execution_count": 9,
   "metadata": {},
   "outputs": [
    {
     "name": "stdout",
     "output_type": "stream",
     "text": [
      "Output : e\n"
     ]
    }
   ],
   "source": [
    "S = [['him', 'sell'], [90, 28, 43]]\n",
    "\n",
    "print(f\"Output : {S[0][1][1]}\")"
   ]
  },
  {
   "attachments": {},
   "cell_type": "markdown",
   "metadata": {},
   "source": [
    "### <span style ='color : green'> **Question 5** </span>\n",
    "What is the **total number and percentage** of missing data in **2014** to 3 decimal places?"
   ]
  },
  {
   "cell_type": "markdown",
   "metadata": {},
   "source": [
    "<span style ='color : orange'> **Ans:** </span> "
   ]
  },
  {
   "cell_type": "code",
   "execution_count": 10,
   "metadata": {},
   "outputs": [
    {
     "name": "stdout",
     "output_type": "stream",
     "text": [
      "Missing Values in `Y2014`\n",
      "==========================\n",
      "Total number : 1589\n",
      "Percentage : 2.607%\n"
     ]
    }
   ],
   "source": [
    "# number of missing values in `Y2014`\n",
    "missing = copy_df['Y2014'].isnull().sum()\n",
    "\n",
    "# total number of columns\n",
    "col = copy_df.shape[0] \n",
    "\n",
    "print(\"Missing Values in `Y2014`\")\n",
    "print(\"==========================\")\n",
    "print(f\"Total number : {missing}\")\n",
    "print(f\"Percentage : {round((missing/col)*100, 3)}%\")"
   ]
  },
  {
   "attachments": {},
   "cell_type": "markdown",
   "metadata": {},
   "source": [
    "### <span style ='color : green'> **Question 6** </span>\n",
    "Select columns `Y2017` and `Area`, Perform a groupby operation on `Area`.  Which of these Areas had the **7th lowest sum in 2017**?"
   ]
  },
  {
   "attachments": {},
   "cell_type": "markdown",
   "metadata": {},
   "source": [
    "<span style ='color : orange'> **Ans:** </span> "
   ]
  },
  {
   "cell_type": "code",
   "execution_count": 11,
   "metadata": {},
   "outputs": [
    {
     "name": "stdout",
     "output_type": "stream",
     "text": [
      "Area with the 7th lowest sum in 2017 : Guinea-Bissau\n"
     ]
    }
   ],
   "source": [
    "# groupby sum aggregation on `Area`\n",
    "areas_2017 = copy_df.groupby('Area')['Y2017'].sum()\n",
    "# sort the values from the highest\n",
    "sorted_areas = areas_2017.sort_values()[:7]\n",
    "\n",
    "print(f\"Area with the 7th lowest sum in 2017 : {sorted_areas.index[6]}\")"
   ]
  },
  {
   "attachments": {},
   "cell_type": "markdown",
   "metadata": {},
   "source": [
    "### <span style ='color : green'> **Question 7** </span>\n",
    "Given the following numpy array \n",
    "\n",
    "array  = ([[94, ***89, 63***],\n",
    "            [93, ***92, 48***],\n",
    "            [92, 94, 56]])\n",
    "\n",
    "How would you **select  the elements in bold and italics** from the array?"
   ]
  },
  {
   "cell_type": "markdown",
   "metadata": {},
   "source": [
    "<span style ='color : orange'> **Ans:** </span>"
   ]
  },
  {
   "cell_type": "code",
   "execution_count": 12,
   "metadata": {},
   "outputs": [
    {
     "data": {
      "text/plain": [
       "array([[89, 63],\n",
       "       [92, 48]])"
      ]
     },
     "execution_count": 12,
     "metadata": {},
     "output_type": "execute_result"
    }
   ],
   "source": [
    "array = np.array([[94, 89, 63]\n",
    "         ,[93, 92, 48]\n",
    "         ,[92, 94, 56]])\n",
    "\n",
    "array[:2, 1:]"
   ]
  },
  {
   "attachments": {},
   "cell_type": "markdown",
   "metadata": {},
   "source": [
    "### <span style ='color : green'> **Question 8** </span>\n",
    "What is the **mean** and **standard deviation** across the whole dataset for the year **2017** to 2 decimal places?"
   ]
  },
  {
   "cell_type": "markdown",
   "metadata": {},
   "source": [
    "<span style ='color : orange'> **Ans:** </span>"
   ]
  },
  {
   "cell_type": "code",
   "execution_count": 13,
   "metadata": {},
   "outputs": [
    {
     "name": "stdout",
     "output_type": "stream",
     "text": [
      "Y2017 Mean: 140.92\n",
      "Y2017 Standard Deviation : 1671.86\n"
     ]
    }
   ],
   "source": [
    "# calculate mean to 2 d.p\n",
    "avg = round(copy_df['Y2017'].mean(),2)\n",
    "# calculate std to 2 d.p\n",
    "stdev = round(copy_df['Y2017'].std(),2)\n",
    "\n",
    "print(f\"Y2017 Mean: {avg}\")\n",
    "print(f\"Y2017 Standard Deviation : {stdev}\")"
   ]
  },
  {
   "attachments": {},
   "cell_type": "markdown",
   "metadata": {},
   "source": [
    "### <span style ='color : green'> **Question 9** </span>\n",
    "Which of these Python data structures is **unorderly**?"
   ]
  },
  {
   "cell_type": "markdown",
   "metadata": {},
   "source": [
    "<span style ='color : orange'> **Ans:** </span> (Set) is unordered"
   ]
  },
  {
   "attachments": {},
   "cell_type": "markdown",
   "metadata": {},
   "source": [
    "### <span style ='color : green'> **Question 10** </span>\n",
    "Perform a groupby operation on `Element`.  What year has the **highest sum** of `Stock Variation`?"
   ]
  },
  {
   "cell_type": "markdown",
   "metadata": {},
   "source": [
    "<span style ='color : orange'> **Ans:** </span>"
   ]
  },
  {
   "cell_type": "code",
   "execution_count": 14,
   "metadata": {},
   "outputs": [
    {
     "name": "stdout",
     "output_type": "stream",
     "text": [
      "Year that has the highest sum of `Stock Variation` : Y2014\n"
     ]
    }
   ],
   "source": [
    "# groupby sum aggregation on `Element`\n",
    "elements = copy_df.groupby('Element')[copy_df.iloc[:, -5:].columns].sum()\n",
    "# locate `Stock Variation`\n",
    "stock_v = elements.loc['Stock Variation'].sort_values(ascending=False)\n",
    "\n",
    "print(f\"Year that has the highest sum of `Stock Variation` : {stock_v.index[0]}\")"
   ]
  },
  {
   "attachments": {},
   "cell_type": "markdown",
   "metadata": {},
   "source": [
    "### <span style ='color : green'> **Question 11** </span>\n",
    "Which of the following is a **python inbuilt module**?\n"
   ]
  },
  {
   "attachments": {},
   "cell_type": "markdown",
   "metadata": {},
   "source": [
    "<span style ='color : orange'> **Ans:** </span> `Math`"
   ]
  },
  {
   "attachments": {},
   "cell_type": "markdown",
   "metadata": {},
   "source": [
    "### <span style ='color : green'> **Question 12** </span>\n",
    "If you have the following list\n",
    "\n",
    "`lst = [[35, 'Portugal', 94], [33, 'Argentina', 93], [30 , 'Brazil', 92]]`\n",
    "\n",
    "`col = ['Age','Nationality','Overall']`\n",
    "\n",
    "How do you **create a pandas DataFrame** using this list, to look like the table below?\n",
    "\n",
    "|  |Age|Nationality| Overall|\n",
    "|---|---|---|---|\n",
    "| 1 | 35 | Portugal | 94 |\n",
    "| 2 | 33 | Argentina | 93 |\n",
    "| 3 | 30 | Brazil | 92 |\n"
   ]
  },
  {
   "cell_type": "markdown",
   "metadata": {},
   "source": [
    "<span style ='color : orange'> **Ans:** </span> "
   ]
  },
  {
   "cell_type": "code",
   "execution_count": 15,
   "metadata": {},
   "outputs": [
    {
     "data": {
      "text/html": [
       "<div>\n",
       "<style scoped>\n",
       "    .dataframe tbody tr th:only-of-type {\n",
       "        vertical-align: middle;\n",
       "    }\n",
       "\n",
       "    .dataframe tbody tr th {\n",
       "        vertical-align: top;\n",
       "    }\n",
       "\n",
       "    .dataframe thead th {\n",
       "        text-align: right;\n",
       "    }\n",
       "</style>\n",
       "<table border=\"1\" class=\"dataframe\">\n",
       "  <thead>\n",
       "    <tr style=\"text-align: right;\">\n",
       "      <th></th>\n",
       "      <th>Age</th>\n",
       "      <th>Nationality</th>\n",
       "      <th>Overall</th>\n",
       "    </tr>\n",
       "  </thead>\n",
       "  <tbody>\n",
       "    <tr>\n",
       "      <th>1</th>\n",
       "      <td>35</td>\n",
       "      <td>Portugal</td>\n",
       "      <td>94</td>\n",
       "    </tr>\n",
       "    <tr>\n",
       "      <th>2</th>\n",
       "      <td>33</td>\n",
       "      <td>Argentina</td>\n",
       "      <td>93</td>\n",
       "    </tr>\n",
       "    <tr>\n",
       "      <th>3</th>\n",
       "      <td>30</td>\n",
       "      <td>Brazil</td>\n",
       "      <td>92</td>\n",
       "    </tr>\n",
       "  </tbody>\n",
       "</table>\n",
       "</div>"
      ],
      "text/plain": [
       "   Age Nationality  Overall\n",
       "1   35    Portugal       94\n",
       "2   33   Argentina       93\n",
       "3   30      Brazil       92"
      ]
     },
     "execution_count": 15,
     "metadata": {},
     "output_type": "execute_result"
    }
   ],
   "source": [
    "lst = [[35, 'Portugal', 94], [33, 'Argentina', 93], [30 , 'Brazil', 92]]\n",
    "col = ['Age','Nationality','Overall']\n",
    "pd.DataFrame(lst, columns = col, index = [i for i in range(1, 4)])"
   ]
  },
  {
   "attachments": {},
   "cell_type": "markdown",
   "metadata": {},
   "source": [
    "### <span style ='color : green'> **Question 13** </span>\n",
    "Which year had the **least correlation** with `Element Code`?"
   ]
  },
  {
   "cell_type": "markdown",
   "metadata": {},
   "source": [
    "<span style ='color : orange'> **Ans:** </span>"
   ]
  },
  {
   "cell_type": "code",
   "execution_count": 16,
   "metadata": {},
   "outputs": [
    {
     "name": "stdout",
     "output_type": "stream",
     "text": [
      "{'Y2014': 0.0245, 'Y2015': 0.0239, 'Y2016': 0.0234, 'Y2017': 0.0243, 'Y2018': 0.0243}\n",
      "====================================================================\n",
      "Year that has the least correlation with `Element Code` is 2016 with a corr of 0.0234\n"
     ]
    }
   ],
   "source": [
    "# list of years\n",
    "years = [copy_df.iloc[:, 7:].columns][0]\n",
    "# calculate the correlation between `Element Code` and the years\n",
    "cor_lst = {}\n",
    "for year in years:\n",
    "    cor_n = round(copy_df['Element Code'].corr(copy_df[year]), 4)\n",
    "    cor_lst[year] = cor_n\n",
    "    \n",
    "print(cor_lst)\n",
    "print(\"====================================================================\")\n",
    "print(f\"Year that has the least correlation with `Element Code` is 2016 with a corr of {round(cor_lst['Y2016'], 4)}\")"
   ]
  },
  {
   "attachments": {},
   "cell_type": "markdown",
   "metadata": {},
   "source": [
    "### <span style ='color : green'> **Question 14** </span>\n",
    "Select columns `Y2017` and `Area`, Perform a groupby operation on `Area`.  Which of these Areas had the **highest sum in 2017**"
   ]
  },
  {
   "cell_type": "markdown",
   "metadata": {},
   "source": [
    "<span style ='color : orange'> **Ans:** </span>"
   ]
  },
  {
   "cell_type": "code",
   "execution_count": 17,
   "metadata": {},
   "outputs": [
    {
     "name": "stdout",
     "output_type": "stream",
     "text": [
      "Area: Nigeria\n",
      "Sum: 1483268.23\n"
     ]
    }
   ],
   "source": [
    "# groupby sum aggregation on `Area`\n",
    "areas = copy_df.groupby('Area')['Y2017'].sum()\n",
    "# sort values from the highest\n",
    "highest_area = areas.sort_values(ascending=False)\n",
    "\n",
    "\n",
    "print(f\"Area: {highest_area.index[0]}\")\n",
    "print(f\"Sum: {highest_area[0]}\")"
   ]
  },
  {
   "attachments": {},
   "cell_type": "markdown",
   "metadata": {},
   "source": [
    "### <span style ='color : green'> **Question 15** </span>\n",
    "Which of the following **DataFrame methods** can be used to access elements across rows and columns?"
   ]
  },
  {
   "attachments": {},
   "cell_type": "markdown",
   "metadata": {},
   "source": [
    "<span style ='color : orange'> **Ans:** </span> `df.iloc[ : ]` "
   ]
  },
  {
   "attachments": {},
   "cell_type": "markdown",
   "metadata": {},
   "source": [
    "### <span style ='color : green'> **Question 16** </span>\n",
    "A pandas Dataframe with dimensions `(100,3)` has how many **features** and **observations**?"
   ]
  },
  {
   "cell_type": "markdown",
   "metadata": {},
   "source": [
    "<span style ='color : orange'> **Ans:** </span> \n",
    "(100, 3) - 3 features, 100 observations"
   ]
  },
  {
   "attachments": {},
   "cell_type": "markdown",
   "metadata": {},
   "source": [
    "### <span style ='color : green'> **Question 17** </span>\n",
    "How would you check for the **number of rows and columns** in a pandas DataFrame named `df`?"
   ]
  },
  {
   "cell_type": "markdown",
   "metadata": {},
   "source": [
    "<span style ='color : orange'> **Ans:** </span> `df.shape`"
   ]
  },
  {
   "attachments": {},
   "cell_type": "markdown",
   "metadata": {},
   "source": [
    "### <span style ='color : green'> **Question 18** </span>\n",
    "Given the following Python code, what would the **output** of the code give?\n",
    "\n",
    "`my_tuppy = (1,2,5,8)`\n",
    "\n",
    "`my_tuppy[2] = 6`"
   ]
  },
  {
   "cell_type": "code",
   "execution_count": 18,
   "metadata": {},
   "outputs": [
    {
     "ename": "TypeError",
     "evalue": "'tuple' object does not support item assignment",
     "output_type": "error",
     "traceback": [
      "\u001b[1;31m---------------------------------------------------------------------------\u001b[0m",
      "\u001b[1;31mTypeError\u001b[0m                                 Traceback (most recent call last)",
      "\u001b[1;32md:\\Hamoye Internship - DSt\\Stage_A\\FoodBalanceSheet.ipynb Cell 58\u001b[0m in \u001b[0;36m<cell line: 3>\u001b[1;34m()\u001b[0m\n\u001b[0;32m      <a href='vscode-notebook-cell:/d%3A/Hamoye%20Internship%20-%20DSt/Stage_A/FoodBalanceSheet.ipynb#Y111sZmlsZQ%3D%3D?line=0'>1</a>\u001b[0m my_tuppy \u001b[39m=\u001b[39m (\u001b[39m1\u001b[39m,\u001b[39m2\u001b[39m,\u001b[39m5\u001b[39m,\u001b[39m8\u001b[39m)\n\u001b[1;32m----> <a href='vscode-notebook-cell:/d%3A/Hamoye%20Internship%20-%20DSt/Stage_A/FoodBalanceSheet.ipynb#Y111sZmlsZQ%3D%3D?line=2'>3</a>\u001b[0m my_tuppy[\u001b[39m2\u001b[39m] \u001b[39m=\u001b[39m \u001b[39m6\u001b[39m\n",
      "\u001b[1;31mTypeError\u001b[0m: 'tuple' object does not support item assignment"
     ]
    }
   ],
   "source": [
    "my_tuppy = (1,2,5,8)\n",
    "\n",
    "my_tuppy[2] = 6"
   ]
  },
  {
   "attachments": {},
   "cell_type": "markdown",
   "metadata": {},
   "source": [
    "<span style ='color : orange'> **Ans:** </span> <span style ='color : red'> **Type Error** </span>"
   ]
  },
  {
   "attachments": {},
   "cell_type": "markdown",
   "metadata": {},
   "source": [
    "### <span style ='color : green'> **Question 19** </span>\n",
    "Perform a groupby operation on 'Element'.  What is the **total number of the sum** of `Processing` in **2017**?"
   ]
  },
  {
   "cell_type": "markdown",
   "metadata": {},
   "source": [
    "<span style ='color : orange'> **Ans:** </span>"
   ]
  },
  {
   "cell_type": "code",
   "execution_count": 19,
   "metadata": {},
   "outputs": [
    {
     "name": "stdout",
     "output_type": "stream",
     "text": [
      "Sum of Processing in 2017 : 292836.0\n"
     ]
    }
   ],
   "source": [
    "# groupby sum aggregation on `Element`\n",
    "elements = copy_df.groupby('Element')['Y2017'].sum()\n",
    "# locate 'Processing'\n",
    "processing = elements.loc['Processing']\n",
    "\n",
    "print(f\"Sum of Processing in 2017 : {processing}\")"
   ]
  },
  {
   "attachments": {},
   "cell_type": "markdown",
   "metadata": {},
   "source": [
    "### <span style ='color : green'> **Question 20** </span>\n",
    "What is the **total sum** of `Wine produced` in **2015** and **2018** respectively?\n",
    "\n",
    "*Hint*:*Perform a groupby sum aggregation on* `Item`"
   ]
  },
  {
   "attachments": {},
   "cell_type": "markdown",
   "metadata": {},
   "source": [
    "<span style ='color : orange'> **Ans:** </span>"
   ]
  },
  {
   "cell_type": "code",
   "execution_count": 20,
   "metadata": {},
   "outputs": [
    {
     "name": "stdout",
     "output_type": "stream",
     "text": [
      "Total sum of wine produced in: \n",
      "==============================\n",
      "Y2015 - 4251.81\n",
      "Y2018 - 4039.32\n"
     ]
    }
   ],
   "source": [
    "# groupby sum aggregation on `Item`\n",
    "items = copy_df.groupby('Item')[['Y2015','Y2018']].sum()\n",
    "# locate `Wine`\n",
    "wine = items.loc['Wine']\n",
    "\n",
    "print(\"Total sum of wine produced in: \")\n",
    "print(\"==============================\")\n",
    "print(f\"Y2015 - {wine[0]}\")\n",
    "print(f\"Y2018 - {wine[1]}\")"
   ]
  }
 ],
 "metadata": {
  "kernelspec": {
   "display_name": "Python 3",
   "language": "python",
   "name": "python3"
  },
  "language_info": {
   "codemirror_mode": {
    "name": "ipython",
    "version": 3
   },
   "file_extension": ".py",
   "mimetype": "text/x-python",
   "name": "python",
   "nbconvert_exporter": "python",
   "pygments_lexer": "ipython3",
   "version": "3.10.4"
  },
  "orig_nbformat": 4,
  "vscode": {
   "interpreter": {
    "hash": "26de051ba29f2982a8de78e945f0abaf191376122a1563185a90213a26c5da77"
   }
  }
 },
 "nbformat": 4,
 "nbformat_minor": 2
}
